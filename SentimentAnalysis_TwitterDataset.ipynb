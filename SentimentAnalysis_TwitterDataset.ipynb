{
 "cells": [
  {
   "cell_type": "markdown",
   "metadata": {},
   "source": [
    "# Sentiment Analysis from Tweets"
   ]
  },
  {
   "cell_type": "code",
   "execution_count": 3,
   "metadata": {},
   "outputs": [],
   "source": [
    "import csv                               # csv reader\n",
    "from sklearn.svm import LinearSVC\n",
    "from nltk.classify import SklearnClassifier\n",
    "from sklearn.pipeline import Pipeline\n",
    "from sklearn.metrics import precision_recall_fscore_support # to report on precision and recall\n",
    "import numpy as np\n",
    "import re\n",
    "import nltk\n",
    "from nltk.stem import WordNetLemmatizer\n",
    "from sklearn.metrics import classification_report\n",
    "from sklearn.metrics import precision_score, recall_score, f1_score, accuracy_score\n",
    "from sklearn.feature_extraction.text import TfidfVectorizer\n",
    "from sklearn import metrics\n",
    "import matplotlib.pyplot as plt\n",
    "from sklearn.metrics import confusion_matrix"
   ]
  },
  {
   "cell_type": "code",
   "execution_count": 4,
   "metadata": {},
   "outputs": [],
   "source": [
    "#nltk.download('wordnet')\n",
    "#nltk.download('stopwords')\n",
    "#from nltk.corpus import stopwords"
   ]
  },
  {
   "cell_type": "markdown",
   "metadata": {},
   "source": [
    "## Input and Basic preprocessing"
   ]
  },
  {
   "cell_type": "code",
   "execution_count": 5,
   "metadata": {},
   "outputs": [],
   "source": [
    "def parse_data_line(data):    # The input is a data line from the dataset, which has the ID, label and the tweet.\n",
    "    return (data[1], data[2])    #  We will return only the label and the tweet. \n",
    "    \n",
    "def load_data(path):\n",
    "    \"\"\"Load data from a tab-separated file and append it to raw_data.\"\"\"\n",
    "    with open(path, encoding='utf-8') as f:\n",
    "        reader = csv.reader(f, delimiter='\\t')\n",
    "        for line in reader:\n",
    "            if line[0] == \"Id\":  # skip header\n",
    "                continue\n",
    "            (label, text) = parse_data_line(line)\n",
    "            raw_data.append((text, label))\n",
    "\n",
    "def split_and_preprocess_data(percentage):\n",
    "    \"\"\"Split the data between train_data and test_data according to the percentage\n",
    "    and performs the preprocessing.\"\"\"\n",
    "    num_samples = len(raw_data)\n",
    "    num_training_samples = int((percentage * num_samples))\n",
    "    for (text, label) in raw_data[:num_training_samples]:\n",
    "        train_data.append((to_feature_vector(pre_process(text)),label))\n",
    "    for (text, label) in raw_data[num_training_samples:]:\n",
    "        test_data.append((to_feature_vector(pre_process(text)),label))"
   ]
  },
  {
   "cell_type": "code",
   "execution_count": 7,
   "metadata": {},
   "outputs": [],
   "source": [
    "#stop_words = set(stopwords.words('english'))\n",
    "lemmatizer = WordNetLemmatizer()\n",
    "\n",
    "def pre_process(text):   # Input: a string of one statement\n",
    "    text = re.sub(r'@\\w+', '', text)             # Remove mentions\n",
    "    text = re.sub(r'http\\S+', '', text)          # Remove URLs\n",
    "    text = re.sub(r'[^A-Za-z\\s]', '', text)      # Remove punctuation\n",
    "    text = text.lower()                          # Convert to lowercase\n",
    "    tokens = text.split()\n",
    "    #tokens = [token for token in tokens if token not in stop_words]\n",
    "    tokens = [lemmatizer.lemmatize(token) for token in tokens]\n",
    "    return tokens"
   ]
  },
  {
   "cell_type": "markdown",
   "metadata": {},
   "source": [
    "The 're.findall' function finds the matches of the given pattern with the input text.\n",
    "\n",
    "\\r -> Raw text\n",
    "\n",
    "\\b -> Looks for word boundary - It matches the position between a word character (like letters, digits, or underscores) and a non-word character (like spaces or punctuation)\n",
    "\n",
    "\\w+ -> Any word which includes letters (upper or lowercase). + means one or more. "
   ]
  },
  {
   "cell_type": "markdown",
   "metadata": {},
   "source": [
    "## Basic Feature Extraction"
   ]
  },
  {
   "cell_type": "code",
   "execution_count": 8,
   "metadata": {},
   "outputs": [],
   "source": [
    "global_feature_dict = {} # A global dictionary of features\n",
    "\n",
    "def to_feature_vector(tokens):\n",
    "    feature_vector = {}  # This is the local dictionary we will return\n",
    "\n",
    "    for token in tokens:\n",
    "        if token in feature_vector:\n",
    "            feature_vector[token] += 1   # Increment the count if the word/token is already in the dictionary\n",
    "        else:\n",
    "            feature_vector[token] = 1     # Add the token to the dictionary with count 1\n",
    "\n",
    "        if token in global_feature_dict:   # This is an optional dictionary - used to track the count of words across the entire dataset.\n",
    "            global_feature_dict[token] += 1\n",
    "        else:\n",
    "            global_feature_dict[token] = 1\n",
    "    return feature_vector"
   ]
  },
  {
   "cell_type": "code",
   "execution_count": 9,
   "metadata": {},
   "outputs": [],
   "source": [
    "# TRAINING AND VALIDATING OUR CLASSIFIER\n",
    "def train_classifier(data):\n",
    "    print(\"Training Classifier...\")\n",
    "    pipeline =  Pipeline([('svc', LinearSVC(class_weight='balanced'))])\n",
    "    return SklearnClassifier(pipeline).train(data)"
   ]
  },
  {
   "cell_type": "markdown",
   "metadata": {},
   "source": [
    "## Cross-validation"
   ]
  },
  {
   "cell_type": "code",
   "execution_count": 10,
   "metadata": {},
   "outputs": [],
   "source": [
    "def cross_validate(dataset, folds):\n",
    "    fold_results = []  # List to store metrics for each fold\n",
    "    results = {\n",
    "        'precision': [],\n",
    "        'recall': [],\n",
    "        'f1': [],\n",
    "        'accuracy': []\n",
    "    }\n",
    "    fold_size = int(len(dataset)/folds) + 1\n",
    "    \n",
    "    for i in range(0,len(dataset),int(fold_size)):\n",
    "        print(\"Fold start on items %d - %d\" % (i, i+fold_size))\n",
    "        validation_data = dataset[i:i+fold_size]\n",
    "        training_data = dataset[:i] + dataset[i+fold_size:]\n",
    "\n",
    "        X_train, y_train = zip(*training_data)\n",
    "        X_test, y_test = zip(*validation_data)\n",
    "\n",
    "        # Convert to lists and ensure they contain only strings\n",
    "        X_train = [str(text) for text in X_train]\n",
    "        X_test = [str(text) for text in X_test]\n",
    "\n",
    "        vectorizer = TfidfVectorizer(ngram_range=(1, 3), max_df=0.7)  # It uses unigrams and bigrams both\n",
    "        X_train_tfidf = vectorizer.fit_transform(X_train)  # Fit on only X_train data\n",
    "        X_test_tfidf = vectorizer.transform(X_test)\n",
    "\n",
    "        X_train_tfidf, y_train = zip(*training_data)\n",
    "        X_test_tfidf, y_test = zip(*validation_data)\n",
    "        \n",
    "        model = train_classifier(training_data)\n",
    "\n",
    "        predictions = predict_labels(X_test_tfidf, model)\n",
    "\n",
    "        p = precision_score(y_test, predictions, pos_label='positive', average='binary')\n",
    "        r = recall_score(y_test, predictions, pos_label='positive', average='binary')\n",
    "        f1 = f1_score(y_test, predictions, pos_label='positive', average='binary')\n",
    "        a = accuracy_score(y_test, predictions)\n",
    "\n",
    "        fold_results.append({\n",
    "                'precision': p,\n",
    "                'recall': r,\n",
    "                'f1': f1,\n",
    "                'accuracy': a\n",
    "            })\n",
    "\n",
    "        results['precision'].append(p)\n",
    "        results['recall'].append(r)\n",
    "        results['f1'].append(f1)\n",
    "        results['accuracy'].append(a)\n",
    "\n",
    "    avg_precision = sum(results['precision']) / folds\n",
    "    avg_recall = sum(results['recall']) / folds\n",
    "    avg_f1 = sum(results['f1']) / folds\n",
    "    avg_accuracy = sum(results['accuracy']) / folds\n",
    "\n",
    "\n",
    "    return {\n",
    "        'fold_results': fold_results,\n",
    "        'average': {\n",
    "            'precision': avg_precision,\n",
    "            'recall': avg_recall,\n",
    "            'f1': avg_f1,\n",
    "            'accuracy': avg_accuracy\n",
    "        }\n",
    "    }"
   ]
  },
  {
   "cell_type": "code",
   "execution_count": 11,
   "metadata": {},
   "outputs": [],
   "source": [
    "# PREDICTING LABELS GIVEN A CLASSIFIER\n",
    "\n",
    "def predict_labels(samples, classifier):\n",
    "    \"\"\"Assuming preprocessed samples, return their predicted labels from the classifier model.\"\"\"\n",
    "    return classifier.classify_many(samples)\n",
    "\n",
    "def predict_label_from_raw(sample, classifier):\n",
    "    \"\"\"Assuming raw text, return its predicted label from the classifier model.\"\"\"\n",
    "    return classifier.classify(to_feature_vector(preProcess(reviewSample)))"
   ]
  },
  {
   "cell_type": "code",
   "execution_count": 12,
   "metadata": {},
   "outputs": [],
   "source": [
    "# MAIN\n",
    "\n",
    "# initialize global lists that will be appended to by the methods below\n",
    "raw_data = []          # the filtered data from the dataset file\n",
    "train_data = []        # the pre-processed training data as a percentage of the total dataset\n",
    "test_data = []         # the pre-processed test data as a percentage of the total dataset\n",
    "\n",
    "# references to the data files\n",
    "data_file_path = 'sentiment-dataset.tsv'\n",
    "\n",
    "load_data(data_file_path) \n",
    "\n",
    "# We split the raw dataset into a set of training data and a set of test data (80/20)\n",
    "split_and_preprocess_data(0.8)"
   ]
  },
  {
   "cell_type": "code",
   "execution_count": 13,
   "metadata": {},
   "outputs": [
    {
     "name": "stdout",
     "output_type": "stream",
     "text": [
      "Fold start on items 0 - 2684\n",
      "Training Classifier...\n",
      "Fold start on items 2684 - 5368\n",
      "Training Classifier...\n",
      "Fold start on items 5368 - 8052\n",
      "Training Classifier...\n",
      "Fold start on items 8052 - 10736\n",
      "Training Classifier...\n",
      "Fold start on items 10736 - 13420\n",
      "Training Classifier...\n",
      "Fold start on items 13420 - 16104\n",
      "Training Classifier...\n",
      "Fold start on items 16104 - 18788\n",
      "Training Classifier...\n",
      "Fold start on items 18788 - 21472\n",
      "Training Classifier...\n",
      "Fold start on items 21472 - 24156\n",
      "Training Classifier...\n",
      "Fold start on items 24156 - 26840\n",
      "Training Classifier...\n"
     ]
    },
    {
     "data": {
      "text/plain": [
       "{'fold_results': [{'precision': 0.8942255801403131,\n",
       "   'recall': 0.8879957127545552,\n",
       "   'f1': 0.8910997579994622,\n",
       "   'accuracy': 0.8491058122205664},\n",
       "  {'precision': 0.9098879688261081,\n",
       "   'recall': 0.893352462936394,\n",
       "   'f1': 0.9015444015444015,\n",
       "   'accuracy': 0.8479880774962743},\n",
       "  {'precision': 0.8575047498416719,\n",
       "   'recall': 0.8261134838316047,\n",
       "   'f1': 0.8415164698570541,\n",
       "   'accuracy': 0.8099850968703428},\n",
       "  {'precision': 0.8301886792452831,\n",
       "   'recall': 0.844903988183161,\n",
       "   'f1': 0.8374816983894583,\n",
       "   'accuracy': 0.834575260804769},\n",
       "  {'precision': 0.8768699654775605,\n",
       "   'recall': 0.8644356211003971,\n",
       "   'f1': 0.8706083976006855,\n",
       "   'accuracy': 0.8312220566318927},\n",
       "  {'precision': 0.8791455874086566,\n",
       "   'recall': 0.8921848260125499,\n",
       "   'f1': 0.8856172140430351,\n",
       "   'accuracy': 0.849478390461997},\n",
       "  {'precision': 0.8843995510662177,\n",
       "   'recall': 0.8824188129899216,\n",
       "   'f1': 0.8834080717488789,\n",
       "   'accuracy': 0.8450074515648286},\n",
       "  {'precision': 0.88558352402746,\n",
       "   'recall': 0.8716216216216216,\n",
       "   'f1': 0.8785471055618616,\n",
       "   'accuracy': 0.8405365126676602},\n",
       "  {'precision': 0.880831928049466,\n",
       "   'recall': 0.883314543404735,\n",
       "   'f1': 0.8820714888826344,\n",
       "   'accuracy': 0.8438897168405365},\n",
       "  {'precision': 0.8803418803418803,\n",
       "   'recall': 0.884373211219233,\n",
       "   'f1': 0.8823529411764706,\n",
       "   'accuracy': 0.8460388639760837}],\n",
       " 'average': {'precision': 0.8778979414424617,\n",
       "  'recall': 0.8730714284054173,\n",
       "  'f1': 0.8754247546803942,\n",
       "  'accuracy': 0.8397827239534952}}"
      ]
     },
     "execution_count": 13,
     "metadata": {},
     "output_type": "execute_result"
    }
   ],
   "source": [
    "cross_validate(train_data, 10)  # will work and output overall performance of p, r, f-score when cv implemented"
   ]
  },
  {
   "cell_type": "markdown",
   "metadata": {},
   "source": [
    "## Error Analysis"
   ]
  },
  {
   "cell_type": "code",
   "execution_count": 14,
   "metadata": {},
   "outputs": [],
   "source": [
    "# A function to make the confusion matrix readable\n",
    "def confusion_matrix_heatmap(y_test, preds, labels):\n",
    "    \"\"\"Function to plot a confusion matrix\"\"\"\n",
    "    # pass labels to the confusion matrix function to ensure right order\n",
    "    cm = metrics.confusion_matrix(y_test, preds, labels=labels)\n",
    "    fig = plt.figure(figsize=(10,10))\n",
    "    ax = fig.add_subplot(111)\n",
    "    cax = ax.matshow(cm)\n",
    "    plt.title('Confusion matrix of the classifier')\n",
    "    fig.colorbar(cax)\n",
    "    ax.set_xticks(np.arange(len(labels)))\n",
    "    ax.set_yticks(np.arange(len(labels)))\n",
    "    ax.set_xticklabels( labels, rotation=45)\n",
    "    ax.set_yticklabels( labels)\n",
    "\n",
    "    for i in range(len(cm)):\n",
    "        for j in range(len(cm)):\n",
    "            text = ax.text(j, i, cm[i, j],\n",
    "                           ha=\"center\", va=\"center\", color=\"w\")\n",
    "\n",
    "    plt.xlabel('Predicted')\n",
    "    plt.ylabel('True')\n",
    "    \n",
    "    plt.show()"
   ]
  },
  {
   "cell_type": "code",
   "execution_count": 15,
   "metadata": {},
   "outputs": [
    {
     "name": "stdout",
     "output_type": "stream",
     "text": [
      "Training Classifier...\n"
     ]
    },
    {
     "data": {
      "image/png": "[encoded data removed]",
      "text/plain": [
       "<Figure size 1000x1000 with 2 Axes>"
      ]
     },
     "metadata": {},
     "output_type": "display_data"
    }
   ],
   "source": [
    "X_test, y_test = zip(*test_data)\n",
    "classifier = train_classifier(train_data)\n",
    "predictions = predict_labels(X_test, classifier)\n",
    "\n",
    "confusion_matrix_heatmap(y_test, predictions, ['positive', 'negative'])"
   ]
  },
  {
   "cell_type": "code",
   "execution_count": 16,
   "metadata": {},
   "outputs": [
    {
     "data": {
      "text/plain": [
       "array([[0.77376344, 0.22623656],\n",
       "       [0.11704312, 0.88295688]])"
      ]
     },
     "execution_count": 16,
     "metadata": {},
     "output_type": "execute_result"
    }
   ],
   "source": [
    "confusion_matrix(y_test, predictions, normalize='true')"
   ]
  },
  {
   "cell_type": "code",
   "execution_count": 17,
   "metadata": {},
   "outputs": [],
   "source": [
    "false_positives = []\n",
    "false_negatives = []\n",
    "\n",
    "for i, (actual, predicted) in enumerate(zip(y_test, predictions)):\n",
    "    if actual == 'negative' and predicted == 'positive':\n",
    "        false_positives.append(i)  # Index or data point of the false positive\n",
    "    elif actual == 'positive' and predicted == 'negative':\n",
    "        false_negatives.append(i)  # Index or data point of the false negative"
   ]
  },
  {
   "cell_type": "code",
   "execution_count": 18,
   "metadata": {},
   "outputs": [],
   "source": [
    "# for i in false_positives[:20]:\n",
    "#     print(X_test[i])"
   ]
  },
  {
   "cell_type": "code",
   "execution_count": 19,
   "metadata": {},
   "outputs": [],
   "source": [
    "# for i in false_negatives[:20]:\n",
    "#     print(X_test[i])"
   ]
  },
  {
   "cell_type": "markdown",
   "metadata": {},
   "source": [
    "## Testing on unseen Test Data"
   ]
  },
  {
   "cell_type": "code",
   "execution_count": 20,
   "metadata": {},
   "outputs": [
    {
     "name": "stdout",
     "output_type": "stream",
     "text": [
      "({'tomorrow': 1, 'well': 2, 'release': 1, 'our': 2, 'th': 1, 'episode': 1, 'of': 1, 'hsonair': 1, 'profiling': 1, 'very': 1, 'own': 1, 'talk': 1, 'about': 1, 'storytelling': 1, 'and': 1, 'beyonce': 1}, 'positive')\n",
      "Training Classifier...\n",
      "Done training!\n",
      "Precision: 0.844912\n",
      "Recall: 0.845110\n",
      "F Score:0.845008\n"
     ]
    }
   ],
   "source": [
    "# Finally, check the accuracy of the classifier by training on all the traning data and testing on the test set\n",
    "functions_complete = True\n",
    "if functions_complete:\n",
    "    print(test_data[0])   # have a look at the first test data instance\n",
    "    classifier = train_classifier(train_data)  # train the classifier\n",
    "    test_true = [t[1] for t in test_data]   # get the ground-truth labels from the data\n",
    "    test_pred = predict_labels([x[0] for x in test_data], classifier)  # classify the test data to get predicted labels\n",
    "    final_scores = precision_recall_fscore_support(test_true, test_pred, average='weighted') # evaluate\n",
    "    print(\"Done training!\")\n",
    "    print(\"Precision: %f\\nRecall: %f\\nF Score:%f\" % final_scores[:3])"
   ]
  },
  {
   "cell_type": "code",
   "execution_count": null,
   "metadata": {},
   "outputs": [],
   "source": []
  }
 ],
 "metadata": {
  "kernelspec": {
   "display_name": "Python 3 (ipykernel)",
   "language": "python",
   "name": "python3"
  },
  "language_info": {
   "codemirror_mode": {
    "name": "ipython",
    "version": 3
   },
   "file_extension": ".py",
   "mimetype": "text/x-python",
   "name": "python",
   "nbconvert_exporter": "python",
   "pygments_lexer": "ipython3",
   "version": "3.12.7"
  }
 },
 "nbformat": 4,
 "nbformat_minor": 4
}
